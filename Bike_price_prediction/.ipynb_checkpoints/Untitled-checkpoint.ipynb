{
 "cells": [
  {
   "cell_type": "code",
   "execution_count": 11,
   "metadata": {},
   "outputs": [],
   "source": [
    "import matplotlib.pyplot as plt\n",
    "plt.style.use('ggplot')\n",
    "%matplotlib inline"
   ]
  },
  {
   "cell_type": "code",
   "execution_count": 12,
   "metadata": {},
   "outputs": [],
   "source": [
    "import pandas as pd\n",
    "import numpy as np\n",
    "import seaborn as sns\n",
    "plt.rcParams['figure.figsize']=(12,8)"
   ]
  },
  {
   "cell_type": "code",
   "execution_count": 13,
   "metadata": {},
   "outputs": [],
   "source": [
    "data = pd.read_csv('bike_sharing_data.txt')"
   ]
  },
  {
   "cell_type": "code",
   "execution_count": 14,
   "metadata": {},
   "outputs": [
    {
     "data": {
      "text/html": [
       "<div>\n",
       "<style scoped>\n",
       "    .dataframe tbody tr th:only-of-type {\n",
       "        vertical-align: middle;\n",
       "    }\n",
       "\n",
       "    .dataframe tbody tr th {\n",
       "        vertical-align: top;\n",
       "    }\n",
       "\n",
       "    .dataframe thead th {\n",
       "        text-align: right;\n",
       "    }\n",
       "</style>\n",
       "<table border=\"1\" class=\"dataframe\">\n",
       "  <thead>\n",
       "    <tr style=\"text-align: right;\">\n",
       "      <th></th>\n",
       "      <th>Population</th>\n",
       "      <th>Profit</th>\n",
       "    </tr>\n",
       "  </thead>\n",
       "  <tbody>\n",
       "    <tr>\n",
       "      <th>0</th>\n",
       "      <td>6.1101</td>\n",
       "      <td>17.5920</td>\n",
       "    </tr>\n",
       "    <tr>\n",
       "      <th>1</th>\n",
       "      <td>5.5277</td>\n",
       "      <td>9.1302</td>\n",
       "    </tr>\n",
       "    <tr>\n",
       "      <th>2</th>\n",
       "      <td>8.5186</td>\n",
       "      <td>13.6620</td>\n",
       "    </tr>\n",
       "    <tr>\n",
       "      <th>3</th>\n",
       "      <td>7.0032</td>\n",
       "      <td>11.8540</td>\n",
       "    </tr>\n",
       "    <tr>\n",
       "      <th>4</th>\n",
       "      <td>5.8598</td>\n",
       "      <td>6.8233</td>\n",
       "    </tr>\n",
       "  </tbody>\n",
       "</table>\n",
       "</div>"
      ],
      "text/plain": [
       "   Population   Profit\n",
       "0      6.1101  17.5920\n",
       "1      5.5277   9.1302\n",
       "2      8.5186  13.6620\n",
       "3      7.0032  11.8540\n",
       "4      5.8598   6.8233"
      ]
     },
     "execution_count": 14,
     "metadata": {},
     "output_type": "execute_result"
    }
   ],
   "source": [
    "data.head()"
   ]
  },
  {
   "cell_type": "code",
   "execution_count": 15,
   "metadata": {},
   "outputs": [
    {
     "data": {
      "text/html": [
       "<div>\n",
       "<style scoped>\n",
       "    .dataframe tbody tr th:only-of-type {\n",
       "        vertical-align: middle;\n",
       "    }\n",
       "\n",
       "    .dataframe tbody tr th {\n",
       "        vertical-align: top;\n",
       "    }\n",
       "\n",
       "    .dataframe thead th {\n",
       "        text-align: right;\n",
       "    }\n",
       "</style>\n",
       "<table border=\"1\" class=\"dataframe\">\n",
       "  <thead>\n",
       "    <tr style=\"text-align: right;\">\n",
       "      <th></th>\n",
       "      <th>Population</th>\n",
       "      <th>Profit</th>\n",
       "    </tr>\n",
       "  </thead>\n",
       "  <tbody>\n",
       "    <tr>\n",
       "      <th>92</th>\n",
       "      <td>5.8707</td>\n",
       "      <td>7.20290</td>\n",
       "    </tr>\n",
       "    <tr>\n",
       "      <th>93</th>\n",
       "      <td>5.3054</td>\n",
       "      <td>1.98690</td>\n",
       "    </tr>\n",
       "    <tr>\n",
       "      <th>94</th>\n",
       "      <td>8.2934</td>\n",
       "      <td>0.14454</td>\n",
       "    </tr>\n",
       "    <tr>\n",
       "      <th>95</th>\n",
       "      <td>13.3940</td>\n",
       "      <td>9.05510</td>\n",
       "    </tr>\n",
       "    <tr>\n",
       "      <th>96</th>\n",
       "      <td>5.4369</td>\n",
       "      <td>0.61705</td>\n",
       "    </tr>\n",
       "  </tbody>\n",
       "</table>\n",
       "</div>"
      ],
      "text/plain": [
       "    Population   Profit\n",
       "92      5.8707  7.20290\n",
       "93      5.3054  1.98690\n",
       "94      8.2934  0.14454\n",
       "95     13.3940  9.05510\n",
       "96      5.4369  0.61705"
      ]
     },
     "execution_count": 15,
     "metadata": {},
     "output_type": "execute_result"
    }
   ],
   "source": [
    "data.tail()"
   ]
  },
  {
   "cell_type": "code",
   "execution_count": 16,
   "metadata": {},
   "outputs": [
    {
     "data": {
      "text/plain": [
       "(97, 2)"
      ]
     },
     "execution_count": 16,
     "metadata": {},
     "output_type": "execute_result"
    }
   ],
   "source": [
    "data.shape"
   ]
  },
  {
   "cell_type": "code",
   "execution_count": 17,
   "metadata": {},
   "outputs": [
    {
     "name": "stdout",
     "output_type": "stream",
     "text": [
      "<class 'pandas.core.frame.DataFrame'>\n",
      "RangeIndex: 97 entries, 0 to 96\n",
      "Data columns (total 2 columns):\n",
      "Population    97 non-null float64\n",
      "Profit        97 non-null float64\n",
      "dtypes: float64(2)\n",
      "memory usage: 1.6 KB\n"
     ]
    }
   ],
   "source": [
    "data.info()"
   ]
  },
  {
   "cell_type": "code",
   "execution_count": 20,
   "metadata": {},
   "outputs": [
    {
     "data": {
      "text/plain": [
       "Text(0.5, 1.0, 'Profit in $10000s vs city population in 10000s')"
      ]
     },
     "execution_count": 20,
     "metadata": {},
     "output_type": "execute_result"
    },
    {
     "data": {
      "image/png": "[encoded data removed]",
      "text/plain": [
       "<Figure size 864x576 with 1 Axes>"
      ]
     },
     "metadata": {
      "needs_background": "light"
     },
     "output_type": "display_data"
    }
   ],
   "source": [
    "ax = sns.scatterplot(data['Population'],data['Profit'])\n",
    "ax.set_title(\"Profit in $10000s vs city population in 10000s\")"
   ]
  },
  {
   "cell_type": "code",
   "execution_count": 45,
   "metadata": {},
   "outputs": [],
   "source": [
    "def cost_function(X,y, theta):\n",
    "    m = len(y)\n",
    "    y_pred = X.dot(theta)\n",
    "    error = (y_pred - y)**2\n",
    "    return 1/(2*m)*np.sum(error)"
   ]
  },
  {
   "cell_type": "code",
   "execution_count": 46,
   "metadata": {},
   "outputs": [],
   "source": [
    "m = data.Population.values.size"
   ]
  },
  {
   "cell_type": "code",
   "execution_count": 47,
   "metadata": {},
   "outputs": [
    {
     "data": {
      "text/plain": [
       "(97, 2)"
      ]
     },
     "execution_count": 47,
     "metadata": {},
     "output_type": "execute_result"
    }
   ],
   "source": [
    "data.shape"
   ]
  },
  {
   "cell_type": "code",
   "execution_count": 48,
   "metadata": {},
   "outputs": [
    {
     "data": {
      "text/plain": [
       "array([[ 6.1101],\n",
       "       [ 5.5277],\n",
       "       [ 8.5186],\n",
       "       [ 7.0032],\n",
       "       [ 5.8598],\n",
       "       [ 8.3829],\n",
       "       [ 7.4764],\n",
       "       [ 8.5781],\n",
       "       [ 6.4862],\n",
       "       [ 5.0546],\n",
       "       [ 5.7107],\n",
       "       [14.164 ],\n",
       "       [ 5.734 ],\n",
       "       [ 8.4084],\n",
       "       [ 5.6407],\n",
       "       [ 5.3794],\n",
       "       [ 6.3654],\n",
       "       [ 5.1301],\n",
       "       [ 6.4296],\n",
       "       [ 7.0708],\n",
       "       [ 6.1891],\n",
       "       [20.27  ],\n",
       "       [ 5.4901],\n",
       "       [ 6.3261],\n",
       "       [ 5.5649],\n",
       "       [18.945 ],\n",
       "       [12.828 ],\n",
       "       [10.957 ],\n",
       "       [13.176 ],\n",
       "       [22.203 ],\n",
       "       [ 5.2524],\n",
       "       [ 6.5894],\n",
       "       [ 9.2482],\n",
       "       [ 5.8918],\n",
       "       [ 8.2111],\n",
       "       [ 7.9334],\n",
       "       [ 8.0959],\n",
       "       [ 5.6063],\n",
       "       [12.836 ],\n",
       "       [ 6.3534],\n",
       "       [ 5.4069],\n",
       "       [ 6.8825],\n",
       "       [11.708 ],\n",
       "       [ 5.7737],\n",
       "       [ 7.8247],\n",
       "       [ 7.0931],\n",
       "       [ 5.0702],\n",
       "       [ 5.8014],\n",
       "       [11.7   ],\n",
       "       [ 5.5416],\n",
       "       [ 7.5402],\n",
       "       [ 5.3077],\n",
       "       [ 7.4239],\n",
       "       [ 7.6031],\n",
       "       [ 6.3328],\n",
       "       [ 6.3589],\n",
       "       [ 6.2742],\n",
       "       [ 5.6397],\n",
       "       [ 9.3102],\n",
       "       [ 9.4536],\n",
       "       [ 8.8254],\n",
       "       [ 5.1793],\n",
       "       [21.279 ],\n",
       "       [14.908 ],\n",
       "       [18.959 ],\n",
       "       [ 7.2182],\n",
       "       [ 8.2951],\n",
       "       [10.236 ],\n",
       "       [ 5.4994],\n",
       "       [20.341 ],\n",
       "       [10.136 ],\n",
       "       [ 7.3345],\n",
       "       [ 6.0062],\n",
       "       [ 7.2259],\n",
       "       [ 5.0269],\n",
       "       [ 6.5479],\n",
       "       [ 7.5386],\n",
       "       [ 5.0365],\n",
       "       [10.274 ],\n",
       "       [ 5.1077],\n",
       "       [ 5.7292],\n",
       "       [ 5.1884],\n",
       "       [ 6.3557],\n",
       "       [ 9.7687],\n",
       "       [ 6.5159],\n",
       "       [ 8.5172],\n",
       "       [ 9.1802],\n",
       "       [ 6.002 ],\n",
       "       [ 5.5204],\n",
       "       [ 5.0594],\n",
       "       [ 5.7077],\n",
       "       [ 7.6366],\n",
       "       [ 5.8707],\n",
       "       [ 5.3054],\n",
       "       [ 8.2934],\n",
       "       [13.394 ],\n",
       "       [ 5.4369]])"
      ]
     },
     "execution_count": 48,
     "metadata": {},
     "output_type": "execute_result"
    }
   ],
   "source": [
    "data.Population.values.reshape(m,1)"
   ]
  },
  {
   "cell_type": "code",
   "execution_count": 49,
   "metadata": {},
   "outputs": [],
   "source": [
    "\n",
    "X = np.append(np.ones((m, 1)),data.Population.values.reshape(m,1),axis=1)\n"
   ]
  },
  {
   "cell_type": "code",
   "execution_count": 50,
   "metadata": {},
   "outputs": [],
   "source": [
    "y = data.Profit.values.reshape(m,1)"
   ]
  },
  {
   "cell_type": "code",
   "execution_count": 51,
   "metadata": {},
   "outputs": [],
   "source": [
    "theta = np.zeros((2,1))"
   ]
  },
  {
   "cell_type": "code",
   "execution_count": 52,
   "metadata": {},
   "outputs": [
    {
     "data": {
      "text/plain": [
       "32.072733877455676"
      ]
     },
     "execution_count": 52,
     "metadata": {},
     "output_type": "execute_result"
    }
   ],
   "source": [
    "cost_function(X,y,theta)"
   ]
  },
  {
   "cell_type": "code",
   "execution_count": 61,
   "metadata": {},
   "outputs": [],
   "source": [
    "def gradient_descent(X,y,theta,alpha,iterations):\n",
    "    m = len(y)\n",
    "    costs=[]\n",
    "    for i in range(iterations):\n",
    "        y_pred = X.dot(theta)\n",
    "        error = np.dot(X.transpose(),(y_pred - y))\n",
    "        theta -= alpha*1/m*error\n",
    "        costs.append(cost_function(X,y,theta))\n",
    "    return theta,costs\n",
    "        "
   ]
  },
  {
   "cell_type": "code",
   "execution_count": 62,
   "metadata": {},
   "outputs": [
    {
     "name": "stdout",
     "output_type": "stream",
     "text": [
      "h(x) = -3.79+1.18x1\n"
     ]
    }
   ],
   "source": [
    "theta, costs = gradient_descent(X,y,theta,alpha=0.01,iterations=2000)\n",
    "print(\"h(x) = {}+{}x1\".format(str(round(theta[0,0],2)),\n",
    "     str(round(theta[1,0],2))))"
   ]
  },
  {
   "cell_type": "code",
   "execution_count": 64,
   "metadata": {
    "collapsed": true
   },
   "outputs": [],
   "source": [
    "from mpl_toolkits.mplot3d import Axes3D"
   ]
  },
  {
   "cell_type": "code",
   "execution_count": 65,
   "metadata": {},
   "outputs": [],
   "source": [
    "theta_0 = np.linspace(-10,10,100)\n"
   ]
  },
  {
   "cell_type": "code",
   "execution_count": 66,
   "metadata": {},
   "outputs": [],
   "source": [
    "theta_1 = np.linspace(-1,4,100)"
   ]
  },
  {
   "cell_type": "code",
   "execution_count": null,
   "metadata": {},
   "outputs": [],
   "source": []
  }
 ],
 "metadata": {
  "kernelspec": {
   "display_name": "Python 3",
   "language": "python",
   "name": "python3"
  },
  "language_info": {
   "codemirror_mode": {
    "name": "ipython",
    "version": 3
   },
   "file_extension": ".py",
   "mimetype": "text/x-python",
   "name": "python",
   "nbconvert_exporter": "python",
   "pygments_lexer": "ipython3",
   "version": "3.7.3"
  }
 },
 "nbformat": 4,
 "nbformat_minor": 2
}
